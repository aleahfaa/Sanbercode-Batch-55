{
  "nbformat": 4,
  "nbformat_minor": 0,
  "metadata": {
    "kernelspec": {
      "display_name": "Python 3",
      "language": "python",
      "name": "python3"
    },
    "language_info": {
      "codemirror_mode": {
        "name": "ipython",
        "version": 3
      },
      "file_extension": ".py",
      "mimetype": "text/x-python",
      "name": "python",
      "nbconvert_exporter": "python",
      "pygments_lexer": "ipython3",
      "version": "3.7.7"
    },
    "colab": {
      "provenance": []
    }
  },
  "cells": [
    {
      "cell_type": "markdown",
      "metadata": {
        "id": "s6LccGLI5deK"
      },
      "source": [
        "<h2>Soal 1: Membuat Objek DataFrames</h2>\n",
        "\n",
        "- Buatlah objek dataframes dari objek dictionary, Bebas!"
      ]
    },
    {
      "cell_type": "code",
      "metadata": {
        "id": "V2jNr8n-5deM",
        "colab": {
          "base_uri": "https://localhost:8080/"
        },
        "outputId": "f5848aa7-263d-4b7e-860e-1aa47cd0041f"
      },
      "source": [
        "# Membuat dataframes dari dictionary\n",
        "import pandas as pd\n",
        "data_dict={\n",
        "    \"Nama\":[\"Alex\", \"Beni\", \"Cici\"],\n",
        "    \"Usia\":[20, 21, 22],\n",
        "    \"Kota\":[\"Jakarta\", \"Yogyakarta\", \"Surabaya\"]\n",
        "}\n",
        "\n",
        "df=pd.DataFrame(data_dict)\n",
        "\n",
        "print(df)"
      ],
      "execution_count": null,
      "outputs": [
        {
          "output_type": "stream",
          "name": "stdout",
          "text": [
            "   Nama  Usia        Kota\n",
            "0  Alex    20     Jakarta\n",
            "1  Beni    21  Yogyakarta\n",
            "2  Cici    22    Surabaya\n"
          ]
        }
      ]
    },
    {
      "cell_type": "markdown",
      "metadata": {
        "id": "KWEFNf9B5deX"
      },
      "source": [
        "<h2>Soal 2: Membaca data dari file</h2>\n",
        "\n",
        "Download file bernama [diamonds.csv](https://drive.google.com/uc?export=download&id=1qQiM9utQUThTPq8jk8stPMh_y2zfqYOd), kemudian baca data tersebut dan assign ke dalam suatu variabel kemudian print."
      ]
    },
    {
      "cell_type": "code",
      "metadata": {
        "id": "Jy2KtDNs5deZ",
        "colab": {
          "base_uri": "https://localhost:8080/"
        },
        "outputId": "8da41bd8-148f-4e08-895b-b221f5ac33fc"
      },
      "source": [
        "# Membaca data dan memasukannya kedalam suatu variabel\n",
        "from google.colab import drive\n",
        "drive.mount('/content/gdrive')\n",
        "data_df = pd.read_csv('/content/gdrive/My Drive/Colab Notebooks/diamonds.csv')\n",
        "print(data_df.head())"
      ],
      "execution_count": null,
      "outputs": [
        {
          "output_type": "stream",
          "name": "stdout",
          "text": [
            "Mounted at /content/gdrive\n",
            "   Unnamed: 0  carat      cut color clarity  depth  table  price     x     y  \\\n",
            "0           1   0.23    Ideal     E     SI2   61.5   55.0    326  3.95  3.98   \n",
            "1           2   0.21  Premium     E     SI1   59.8   61.0    326  3.89  3.84   \n",
            "2           3   0.23     Good     E     VS1   56.9   65.0    327  4.05  4.07   \n",
            "3           4   0.29  Premium     I     VS2   62.4   58.0    334  4.20  4.23   \n",
            "4           5   0.31     Good     J     SI2   63.3   58.0    335  4.34  4.35   \n",
            "\n",
            "      z  \n",
            "0  2.43  \n",
            "1  2.31  \n",
            "2  2.31  \n",
            "3  2.63  \n",
            "4  2.75  \n"
          ]
        }
      ]
    },
    {
      "cell_type": "markdown",
      "metadata": {
        "id": "1o9m_N295del"
      },
      "source": [
        "Expected Result:\n",
        "\n",
        "![alt text](https://drive.google.com/uc?id=1BvgM5mJEVfj0fllrjkBfQwn0QIFkry_t)"
      ]
    },
    {
      "cell_type": "markdown",
      "metadata": {
        "id": "LtLWF_Ot5deo"
      },
      "source": [
        "<h2>Soal 3: DataFrame vs Series</h2>\n",
        "\n",
        "- Apa perbedaan Series dengan list dan dictionary\n",
        "- Apa perbedaan dataframe dan series\n",
        "- Buatlah suatu data series"
      ]
    },
    {
      "cell_type": "markdown",
      "metadata": {
        "id": "6F2EDcPp5der"
      },
      "source": [
        "Jawab: <br>\n",
        "1. Perbedaan Series dengan List dan Dictionary.<br>\n",
        "<table style=\"height:auto, weight=50px\">\n",
        "<tr>\n",
        "<th>Fitur</th>\n",
        "<th>List</th>\n",
        "<th>Dictionary</th>\n",
        "<th>Series</th>\n",
        "</tr>\n",
        "<tr>\n",
        "<td>Jenis Data</td>\n",
        "<td>Koleksi pasangan nilai yang diindeks</td>\n",
        "<td>Koleksi pasangan kunci-nilai</td>\n",
        "<td>Koleksi pasangan nilai yang diindeks</td>\n",
        "</tr>\n",
        "<tr>\n",
        "<td>Akses</td>\n",
        "<td>Elemen diakses dengan indeks numerik</td>\n",
        "<td>Elemen diakses dengan menggunakan nilai kunci</td>\n",
        "<td>Elemen diakses dengan indeks numerik</td>\n",
        "</tr>\n",
        "<tr>\n",
        "<td>Urutan</td>\n",
        "<td>Urutan elemen dipertahankan</td>\n",
        "<td>Tidak menjamin mempertahankan urutan</td>\n",
        "<td>Urutan elemen dipertahankan</td>\n",
        "</tr>\n",
        "<tr>\n",
        "<td>Mutabilitas</td>\n",
        "<td>Mutable</td>\n",
        "<td>Mutable, namun kunci tidak boleh duplikat</td>\n",
        "<td>Mutable</td>\n",
        "</tr>\n",
        "<tr>\n",
        "<td>Pengindeksan</td>\n",
        "<td>Indeks dimulai dari nol dan berjenis bilangan bulat</td>\n",
        "<td>Kunci dapat berupa tipe data apa pun</td>\n",
        "<td>Indeks dimulai dari nol dan berjenis bilangan bulat</td>\n",
        "</tr>\n",
        "</table>\n",
        "2. Perbedaan antara DataFrame dan Series.\n",
        "<table style=\"height:auto, weight=50px\">\n",
        "<tr>\n",
        "<th>Fitur</th>\n",
        "<th>DataFrame</th>\n",
        "<th>Series</th>\n",
        "</tr>\n",
        "<tr>\n",
        "<td>Dimensi</td>\n",
        "<td>DataFrame dengan satu kolom adalah tabel dua dimensi dengan satu kolom</td>\n",
        "<td>Series adalah array satu dimensi dari data</td>\n",
        "</tr>\n",
        "<tr>\n",
        "<td>Pengaturan Data</td>\n",
        "<td>Ditentukan oleh label kolom</td>\n",
        "<td>Didasarkan pada label indeks</td>\n",
        "</tr>\n",
        "<tr>\n",
        "<td>Pengindeksan</td>\n",
        "<td>Memiliki indeks yang ditentukan</td>\n",
        "<td>Memiliki indeks opsional</td>\n",
        "</tr>\n",
        "<tr>\n",
        "<td>Kasus Penggunaan</td>\n",
        "<td>Gunakan Seri ketika Anda hanya memiliki satu kolom data dan tidak memerlukan fitur tambahan dari DataFrame.</td>\n",
        "<td>Gunakan DataFrame dengan satu kolom ketika Anda membutuhkan fitur tambahan dari DataFrame, seperti penyaringan, penggabungan, dan penggabungan.</td>\n",
        "</tr>\n",
        "</table>\n",
        "Secara ringkas, sebuah Seri adalah objek mirip array satu dimensi yang dapat menyimpan data dari jenis apa pun, sementara DataFrame dengan satu kolom adalah tabel dua dimensi dengan satu kolom.\n",
        "\n",
        "\n",
        "\n",
        "\n",
        "\n"
      ]
    },
    {
      "cell_type": "code",
      "metadata": {
        "id": "RBPrIKlZ5dev",
        "colab": {
          "base_uri": "https://localhost:8080/"
        },
        "outputId": "a6be634d-10e7-4909-aff0-8be11786d812"
      },
      "source": [
        "# code here\n",
        "kota = [\"Jakarta\", \"Surabaya\", \"Bandung\", \"Medan\", \"Makassar\"]\n",
        "suhu = [27, 27, 23, 27, 26]\n",
        "\n",
        "seri_suhu=pd.Series(data=suhu, index=kota)\n",
        "\n",
        "print(seri_suhu)"
      ],
      "execution_count": null,
      "outputs": [
        {
          "output_type": "stream",
          "name": "stdout",
          "text": [
            "Jakarta     27\n",
            "Surabaya    27\n",
            "Bandung     23\n",
            "Medan       27\n",
            "Makassar    26\n",
            "dtype: int64\n"
          ]
        }
      ]
    },
    {
      "cell_type": "markdown",
      "metadata": {
        "id": "JNuHgN945de8"
      },
      "source": [
        "<h2>Soal 4: Pemeriksaan Data Sederhana</h2>\n",
        "\n",
        "Di soal no 2 kamu telah membaca data tentang diamonds. pada soal ini cobalah suatu metode dari pandas untuk mengetahui beberapa data pertama dan beberapa data terakhir. kemudian sebutkan nilai dari:\n",
        "- baris pertama dari column price\n",
        "- baris terakhir dari column color\n",
        "\n",
        "tunjukan cara kalian menemukan nilai tersebut di block di bawah ini."
      ]
    },
    {
      "cell_type": "code",
      "metadata": {
        "id": "MRvNarxL5de-",
        "colab": {
          "base_uri": "https://localhost:8080/"
        },
        "outputId": "670f7317-b347-4eae-dfb1-2e7de920ac02"
      },
      "source": [
        "# code here\n",
        "first_price = data_df['price'].iloc[0]\n",
        "print(\"Baris pertama dari column price:\", first_price)\n",
        "\n",
        "last_color = data_df['color'].iloc[-1]\n",
        "print(\"Baris terakhir dari column color:\", last_color)\n"
      ],
      "execution_count": null,
      "outputs": [
        {
          "output_type": "stream",
          "name": "stdout",
          "text": [
            "Baris pertama dari column price: 326\n",
            "Baris terakhir dari column color: D\n"
          ]
        }
      ]
    },
    {
      "cell_type": "markdown",
      "metadata": {
        "id": "q-u9QIjJ5dfK"
      },
      "source": [
        "<h2>Soal 5: Deskriptif Statistik</h2>\n",
        "\n",
        "Jelaskan apa itu deskriptis statistik!"
      ]
    },
    {
      "cell_type": "markdown",
      "metadata": {
        "id": "iKTeB5Gd5dfM"
      },
      "source": [
        "Jawab:<br>\n",
        "Deskriptis statistik adalah sekumpulan ukuran numerik yang merangkum dan menjelaskan karakteristik dari sebuah himpunan data. Mereka memberikan cara yang ringkas dan mudah dikelola untuk memahami fitur dasar dari data, termasuk kecenderungan pusat, dispersi, dan distribusi frekuensi. Statistik deskriptif digunakan dalam berbagai bidang, termasuk bisnis, kedokteran, dan ilmu sosial, untuk memahami dan mengkomunikasikan fitur-fitur kunci dari data.<br>\n",
        "Ada dua kategori utama statistik deskriptif: univariat dan bivariat. Analisis univariat berfokus pada distribusi variabel tunggal, sedangkan analisis bivariat memeriksa hubungan antara dua variabel. Ukuran-ukuran umum dari kecenderungan pusat meliputi rata-rata (mean), median, dan modus, sementara ukuran-ukuran dari variabilitas meliputi deviasi standar, varians, rentang, kurtosis, dan skewness.<br>\n",
        "Statistik deskriptif tidak dikembangkan berdasarkan teori probabilitas dan tidak digunakan untuk membuat inferensi tentang populasi, tidak seperti statistik inferensial. Sebaliknya, mereka digunakan untuk merangkum dan menjelaskan data itu sendiri, memberikan dasar untuk analisis dan interpretasi lebih lanjut."
      ]
    },
    {
      "cell_type": "markdown",
      "metadata": {
        "id": "5SKD0rNu5dfP"
      },
      "source": [
        "<h2>Soal 6: Practice Deskriptif Statistik</h2>\n",
        "\n",
        "- Gunakan suatu metode dari pandas untuk mengetahui deskriptif statistik dari suatu data\n",
        "- Berapa nilai rata-rata dari column price\n",
        "- Berapa nilai standar deviasi dari column depth\n",
        "- Berapa nilai maximum dari column carat"
      ]
    },
    {
      "cell_type": "code",
      "metadata": {
        "id": "giNtJG9Y5dfS",
        "colab": {
          "base_uri": "https://localhost:8080/"
        },
        "outputId": "72a45cb1-d4fa-4ef2-d3ec-a2844529ff06"
      },
      "source": [
        "# code here\n",
        "mean_price = data_df['price'].mean()\n",
        "print(mean_price)\n",
        "\n",
        "std_depth = data_df['depth'].std()\n",
        "print(std_depth)\n",
        "\n",
        "max_carat = data_df['carat'].max()\n",
        "print(max_carat)"
      ],
      "execution_count": null,
      "outputs": [
        {
          "output_type": "stream",
          "name": "stdout",
          "text": [
            "3932.799721913237\n",
            "1.432621318833661\n",
            "5.01\n"
          ]
        }
      ]
    },
    {
      "cell_type": "markdown",
      "metadata": {
        "id": "M6miZVtG5dfd"
      },
      "source": [
        "Jawab:"
      ]
    }
  ]
}