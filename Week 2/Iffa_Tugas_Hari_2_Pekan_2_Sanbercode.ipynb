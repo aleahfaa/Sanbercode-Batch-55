{
  "nbformat": 4,
  "nbformat_minor": 0,
  "metadata": {
    "kernelspec": {
      "display_name": "Python 3",
      "language": "python",
      "name": "python3"
    },
    "language_info": {
      "codemirror_mode": {
        "name": "ipython",
        "version": 3
      },
      "file_extension": ".py",
      "mimetype": "text/x-python",
      "name": "python",
      "nbconvert_exporter": "python",
      "pygments_lexer": "ipython3",
      "version": "3.7.7"
    },
    "colab": {
      "provenance": []
    }
  },
  "cells": [
    {
      "cell_type": "code",
      "metadata": {
        "colab": {
          "base_uri": "https://localhost:8080/",
          "height": 441
        },
        "id": "qt5hFjS-8sej",
        "outputId": "d1a587a9-e7b6-440f-f230-e32738f92246"
      },
      "source": [
        "#data preparation\n",
        "import pandas as pd\n",
        "from google.colab import drive\n",
        "drive.mount('/content/gdrive')\n",
        "\n",
        "df=pd.read_csv('/content/gdrive/My Drive/Colab Notebooks/Students Performance.csv')\n",
        "\n",
        "df"
      ],
      "execution_count": null,
      "outputs": [
        {
          "output_type": "stream",
          "name": "stdout",
          "text": [
            "Drive already mounted at /content/gdrive; to attempt to forcibly remount, call drive.mount(\"/content/gdrive\", force_remount=True).\n"
          ]
        },
        {
          "output_type": "execute_result",
          "data": {
            "text/plain": [
              "    gender parental level of education test preparation course  nilai\n",
              "0     male                some college                    none     43\n",
              "1     male            some high school               completed     77\n",
              "2     male                some college               completed     83\n",
              "3     male             bachelor degree               completed     83\n",
              "4   female             bachelor degree                    none     73\n",
              "..     ...                         ...                     ...    ...\n",
              "95    male                 high school                    none     30\n",
              "96  female                 high school                    none     62\n",
              "97    male                 high school                    none     71\n",
              "98    male            associate degree                    none     66\n",
              "99    male                some college               completed     85\n",
              "\n",
              "[100 rows x 4 columns]"
            ],
            "text/html": [
              "\n",
              "  <div id=\"df-9a155e84-b4c5-46d6-822f-6e1eb1c2b258\" class=\"colab-df-container\">\n",
              "    <div>\n",
              "<style scoped>\n",
              "    .dataframe tbody tr th:only-of-type {\n",
              "        vertical-align: middle;\n",
              "    }\n",
              "\n",
              "    .dataframe tbody tr th {\n",
              "        vertical-align: top;\n",
              "    }\n",
              "\n",
              "    .dataframe thead th {\n",
              "        text-align: right;\n",
              "    }\n",
              "</style>\n",
              "<table border=\"1\" class=\"dataframe\">\n",
              "  <thead>\n",
              "    <tr style=\"text-align: right;\">\n",
              "      <th></th>\n",
              "      <th>gender</th>\n",
              "      <th>parental level of education</th>\n",
              "      <th>test preparation course</th>\n",
              "      <th>nilai</th>\n",
              "    </tr>\n",
              "  </thead>\n",
              "  <tbody>\n",
              "    <tr>\n",
              "      <th>0</th>\n",
              "      <td>male</td>\n",
              "      <td>some college</td>\n",
              "      <td>none</td>\n",
              "      <td>43</td>\n",
              "    </tr>\n",
              "    <tr>\n",
              "      <th>1</th>\n",
              "      <td>male</td>\n",
              "      <td>some high school</td>\n",
              "      <td>completed</td>\n",
              "      <td>77</td>\n",
              "    </tr>\n",
              "    <tr>\n",
              "      <th>2</th>\n",
              "      <td>male</td>\n",
              "      <td>some college</td>\n",
              "      <td>completed</td>\n",
              "      <td>83</td>\n",
              "    </tr>\n",
              "    <tr>\n",
              "      <th>3</th>\n",
              "      <td>male</td>\n",
              "      <td>bachelor degree</td>\n",
              "      <td>completed</td>\n",
              "      <td>83</td>\n",
              "    </tr>\n",
              "    <tr>\n",
              "      <th>4</th>\n",
              "      <td>female</td>\n",
              "      <td>bachelor degree</td>\n",
              "      <td>none</td>\n",
              "      <td>73</td>\n",
              "    </tr>\n",
              "    <tr>\n",
              "      <th>...</th>\n",
              "      <td>...</td>\n",
              "      <td>...</td>\n",
              "      <td>...</td>\n",
              "      <td>...</td>\n",
              "    </tr>\n",
              "    <tr>\n",
              "      <th>95</th>\n",
              "      <td>male</td>\n",
              "      <td>high school</td>\n",
              "      <td>none</td>\n",
              "      <td>30</td>\n",
              "    </tr>\n",
              "    <tr>\n",
              "      <th>96</th>\n",
              "      <td>female</td>\n",
              "      <td>high school</td>\n",
              "      <td>none</td>\n",
              "      <td>62</td>\n",
              "    </tr>\n",
              "    <tr>\n",
              "      <th>97</th>\n",
              "      <td>male</td>\n",
              "      <td>high school</td>\n",
              "      <td>none</td>\n",
              "      <td>71</td>\n",
              "    </tr>\n",
              "    <tr>\n",
              "      <th>98</th>\n",
              "      <td>male</td>\n",
              "      <td>associate degree</td>\n",
              "      <td>none</td>\n",
              "      <td>66</td>\n",
              "    </tr>\n",
              "    <tr>\n",
              "      <th>99</th>\n",
              "      <td>male</td>\n",
              "      <td>some college</td>\n",
              "      <td>completed</td>\n",
              "      <td>85</td>\n",
              "    </tr>\n",
              "  </tbody>\n",
              "</table>\n",
              "<p>100 rows × 4 columns</p>\n",
              "</div>\n",
              "    <div class=\"colab-df-buttons\">\n",
              "\n",
              "  <div class=\"colab-df-container\">\n",
              "    <button class=\"colab-df-convert\" onclick=\"convertToInteractive('df-9a155e84-b4c5-46d6-822f-6e1eb1c2b258')\"\n",
              "            title=\"Convert this dataframe to an interactive table.\"\n",
              "            style=\"display:none;\">\n",
              "\n",
              "  <svg xmlns=\"http://www.w3.org/2000/svg\" height=\"24px\" viewBox=\"0 -960 960 960\">\n",
              "    <path d=\"M120-120v-720h720v720H120Zm60-500h600v-160H180v160Zm220 220h160v-160H400v160Zm0 220h160v-160H400v160ZM180-400h160v-160H180v160Zm440 0h160v-160H620v160ZM180-180h160v-160H180v160Zm440 0h160v-160H620v160Z\"/>\n",
              "  </svg>\n",
              "    </button>\n",
              "\n",
              "  <style>\n",
              "    .colab-df-container {\n",
              "      display:flex;\n",
              "      gap: 12px;\n",
              "    }\n",
              "\n",
              "    .colab-df-convert {\n",
              "      background-color: #E8F0FE;\n",
              "      border: none;\n",
              "      border-radius: 50%;\n",
              "      cursor: pointer;\n",
              "      display: none;\n",
              "      fill: #1967D2;\n",
              "      height: 32px;\n",
              "      padding: 0 0 0 0;\n",
              "      width: 32px;\n",
              "    }\n",
              "\n",
              "    .colab-df-convert:hover {\n",
              "      background-color: #E2EBFA;\n",
              "      box-shadow: 0px 1px 2px rgba(60, 64, 67, 0.3), 0px 1px 3px 1px rgba(60, 64, 67, 0.15);\n",
              "      fill: #174EA6;\n",
              "    }\n",
              "\n",
              "    .colab-df-buttons div {\n",
              "      margin-bottom: 4px;\n",
              "    }\n",
              "\n",
              "    [theme=dark] .colab-df-convert {\n",
              "      background-color: #3B4455;\n",
              "      fill: #D2E3FC;\n",
              "    }\n",
              "\n",
              "    [theme=dark] .colab-df-convert:hover {\n",
              "      background-color: #434B5C;\n",
              "      box-shadow: 0px 1px 3px 1px rgba(0, 0, 0, 0.15);\n",
              "      filter: drop-shadow(0px 1px 2px rgba(0, 0, 0, 0.3));\n",
              "      fill: #FFFFFF;\n",
              "    }\n",
              "  </style>\n",
              "\n",
              "    <script>\n",
              "      const buttonEl =\n",
              "        document.querySelector('#df-9a155e84-b4c5-46d6-822f-6e1eb1c2b258 button.colab-df-convert');\n",
              "      buttonEl.style.display =\n",
              "        google.colab.kernel.accessAllowed ? 'block' : 'none';\n",
              "\n",
              "      async function convertToInteractive(key) {\n",
              "        const element = document.querySelector('#df-9a155e84-b4c5-46d6-822f-6e1eb1c2b258');\n",
              "        const dataTable =\n",
              "          await google.colab.kernel.invokeFunction('convertToInteractive',\n",
              "                                                    [key], {});\n",
              "        if (!dataTable) return;\n",
              "\n",
              "        const docLinkHtml = 'Like what you see? Visit the ' +\n",
              "          '<a target=\"_blank\" href=https://colab.research.google.com/notebooks/data_table.ipynb>data table notebook</a>'\n",
              "          + ' to learn more about interactive tables.';\n",
              "        element.innerHTML = '';\n",
              "        dataTable['output_type'] = 'display_data';\n",
              "        await google.colab.output.renderOutput(dataTable, element);\n",
              "        const docLink = document.createElement('div');\n",
              "        docLink.innerHTML = docLinkHtml;\n",
              "        element.appendChild(docLink);\n",
              "      }\n",
              "    </script>\n",
              "  </div>\n",
              "\n",
              "\n",
              "<div id=\"df-709f0ba5-a6de-4170-ba83-b2c890c46a55\">\n",
              "  <button class=\"colab-df-quickchart\" onclick=\"quickchart('df-709f0ba5-a6de-4170-ba83-b2c890c46a55')\"\n",
              "            title=\"Suggest charts\"\n",
              "            style=\"display:none;\">\n",
              "\n",
              "<svg xmlns=\"http://www.w3.org/2000/svg\" height=\"24px\"viewBox=\"0 0 24 24\"\n",
              "     width=\"24px\">\n",
              "    <g>\n",
              "        <path d=\"M19 3H5c-1.1 0-2 .9-2 2v14c0 1.1.9 2 2 2h14c1.1 0 2-.9 2-2V5c0-1.1-.9-2-2-2zM9 17H7v-7h2v7zm4 0h-2V7h2v10zm4 0h-2v-4h2v4z\"/>\n",
              "    </g>\n",
              "</svg>\n",
              "  </button>\n",
              "\n",
              "<style>\n",
              "  .colab-df-quickchart {\n",
              "      --bg-color: #E8F0FE;\n",
              "      --fill-color: #1967D2;\n",
              "      --hover-bg-color: #E2EBFA;\n",
              "      --hover-fill-color: #174EA6;\n",
              "      --disabled-fill-color: #AAA;\n",
              "      --disabled-bg-color: #DDD;\n",
              "  }\n",
              "\n",
              "  [theme=dark] .colab-df-quickchart {\n",
              "      --bg-color: #3B4455;\n",
              "      --fill-color: #D2E3FC;\n",
              "      --hover-bg-color: #434B5C;\n",
              "      --hover-fill-color: #FFFFFF;\n",
              "      --disabled-bg-color: #3B4455;\n",
              "      --disabled-fill-color: #666;\n",
              "  }\n",
              "\n",
              "  .colab-df-quickchart {\n",
              "    background-color: var(--bg-color);\n",
              "    border: none;\n",
              "    border-radius: 50%;\n",
              "    cursor: pointer;\n",
              "    display: none;\n",
              "    fill: var(--fill-color);\n",
              "    height: 32px;\n",
              "    padding: 0;\n",
              "    width: 32px;\n",
              "  }\n",
              "\n",
              "  .colab-df-quickchart:hover {\n",
              "    background-color: var(--hover-bg-color);\n",
              "    box-shadow: 0 1px 2px rgba(60, 64, 67, 0.3), 0 1px 3px 1px rgba(60, 64, 67, 0.15);\n",
              "    fill: var(--button-hover-fill-color);\n",
              "  }\n",
              "\n",
              "  .colab-df-quickchart-complete:disabled,\n",
              "  .colab-df-quickchart-complete:disabled:hover {\n",
              "    background-color: var(--disabled-bg-color);\n",
              "    fill: var(--disabled-fill-color);\n",
              "    box-shadow: none;\n",
              "  }\n",
              "\n",
              "  .colab-df-spinner {\n",
              "    border: 2px solid var(--fill-color);\n",
              "    border-color: transparent;\n",
              "    border-bottom-color: var(--fill-color);\n",
              "    animation:\n",
              "      spin 1s steps(1) infinite;\n",
              "  }\n",
              "\n",
              "  @keyframes spin {\n",
              "    0% {\n",
              "      border-color: transparent;\n",
              "      border-bottom-color: var(--fill-color);\n",
              "      border-left-color: var(--fill-color);\n",
              "    }\n",
              "    20% {\n",
              "      border-color: transparent;\n",
              "      border-left-color: var(--fill-color);\n",
              "      border-top-color: var(--fill-color);\n",
              "    }\n",
              "    30% {\n",
              "      border-color: transparent;\n",
              "      border-left-color: var(--fill-color);\n",
              "      border-top-color: var(--fill-color);\n",
              "      border-right-color: var(--fill-color);\n",
              "    }\n",
              "    40% {\n",
              "      border-color: transparent;\n",
              "      border-right-color: var(--fill-color);\n",
              "      border-top-color: var(--fill-color);\n",
              "    }\n",
              "    60% {\n",
              "      border-color: transparent;\n",
              "      border-right-color: var(--fill-color);\n",
              "    }\n",
              "    80% {\n",
              "      border-color: transparent;\n",
              "      border-right-color: var(--fill-color);\n",
              "      border-bottom-color: var(--fill-color);\n",
              "    }\n",
              "    90% {\n",
              "      border-color: transparent;\n",
              "      border-bottom-color: var(--fill-color);\n",
              "    }\n",
              "  }\n",
              "</style>\n",
              "\n",
              "  <script>\n",
              "    async function quickchart(key) {\n",
              "      const quickchartButtonEl =\n",
              "        document.querySelector('#' + key + ' button');\n",
              "      quickchartButtonEl.disabled = true;  // To prevent multiple clicks.\n",
              "      quickchartButtonEl.classList.add('colab-df-spinner');\n",
              "      try {\n",
              "        const charts = await google.colab.kernel.invokeFunction(\n",
              "            'suggestCharts', [key], {});\n",
              "      } catch (error) {\n",
              "        console.error('Error during call to suggestCharts:', error);\n",
              "      }\n",
              "      quickchartButtonEl.classList.remove('colab-df-spinner');\n",
              "      quickchartButtonEl.classList.add('colab-df-quickchart-complete');\n",
              "    }\n",
              "    (() => {\n",
              "      let quickchartButtonEl =\n",
              "        document.querySelector('#df-709f0ba5-a6de-4170-ba83-b2c890c46a55 button');\n",
              "      quickchartButtonEl.style.display =\n",
              "        google.colab.kernel.accessAllowed ? 'block' : 'none';\n",
              "    })();\n",
              "  </script>\n",
              "</div>\n",
              "    </div>\n",
              "  </div>\n"
            ],
            "application/vnd.google.colaboratory.intrinsic+json": {
              "type": "dataframe",
              "variable_name": "df",
              "summary": "{\n  \"name\": \"df\",\n  \"rows\": 100,\n  \"fields\": [\n    {\n      \"column\": \"gender\",\n      \"properties\": {\n        \"dtype\": \"category\",\n        \"num_unique_values\": 2,\n        \"samples\": [\n          \"female\",\n          \"male\"\n        ],\n        \"semantic_type\": \"\",\n        \"description\": \"\"\n      }\n    },\n    {\n      \"column\": \"parental level of education\",\n      \"properties\": {\n        \"dtype\": \"category\",\n        \"num_unique_values\": 6,\n        \"samples\": [\n          \"some college\",\n          \"some high school\"\n        ],\n        \"semantic_type\": \"\",\n        \"description\": \"\"\n      }\n    },\n    {\n      \"column\": \"test preparation course\",\n      \"properties\": {\n        \"dtype\": \"category\",\n        \"num_unique_values\": 2,\n        \"samples\": [\n          \"completed\",\n          \"none\"\n        ],\n        \"semantic_type\": \"\",\n        \"description\": \"\"\n      }\n    },\n    {\n      \"column\": \"nilai\",\n      \"properties\": {\n        \"dtype\": \"number\",\n        \"std\": 13,\n        \"min\": 29,\n        \"max\": 97,\n        \"num_unique_values\": 47,\n        \"samples\": [\n          54,\n          69\n        ],\n        \"semantic_type\": \"\",\n        \"description\": \"\"\n      }\n    }\n  ]\n}"
            }
          },
          "metadata": {},
          "execution_count": 2
        }
      ]
    },
    {
      "cell_type": "markdown",
      "metadata": {
        "id": "IQBqZzEmOvYG"
      },
      "source": [
        "\n",
        "\n",
        "---\n",
        "\n",
        "\n",
        "\n",
        "---\n",
        "\n"
      ]
    },
    {
      "cell_type": "markdown",
      "metadata": {
        "id": "aNoScqypBGr5"
      },
      "source": [
        "<h2>Soal 1: Indexing</h2>\n",
        "\n",
        "1. Lakukan indexing terhadap dataframe untuk mengakses column 'gender' dan 'parental level of education' saja\n",
        "2. Lakukan indexing terhadap dataframe untuk mengakses row 10 sampai 20 beserta column 'test preparation course' dan 'nilai'"
      ]
    },
    {
      "cell_type": "code",
      "metadata": {
        "id": "p1u_riDtIthb",
        "colab": {
          "base_uri": "https://localhost:8080/"
        },
        "outputId": "9707de34-5164-4660-9283-154d7fcfeb0e"
      },
      "source": [
        "#code here\n",
        "gender_education=df[['gender','parental level of education']]\n",
        "print(gender_education)\n",
        "\n",
        "test_nilai=df[10:21][['test preparation course','nilai']]\n",
        "print(test_nilai)"
      ],
      "execution_count": null,
      "outputs": [
        {
          "output_type": "stream",
          "name": "stdout",
          "text": [
            "    gender parental level of education\n",
            "0     male                some college\n",
            "1     male            some high school\n",
            "2     male                some college\n",
            "3     male             bachelor degree\n",
            "4   female             bachelor degree\n",
            "..     ...                         ...\n",
            "95    male                 high school\n",
            "96  female                 high school\n",
            "97    male                 high school\n",
            "98    male            associate degree\n",
            "99    male                some college\n",
            "\n",
            "[100 rows x 2 columns]\n",
            "   test preparation course  nilai\n",
            "10                    none     68\n",
            "11               completed     63\n",
            "12                    none     64\n",
            "13                    none     47\n",
            "14                    none     77\n",
            "15               completed     52\n",
            "16               completed     34\n",
            "17                    none     29\n",
            "18                    none     40\n",
            "19                    none     75\n",
            "20                    none     80\n"
          ]
        }
      ]
    },
    {
      "cell_type": "markdown",
      "metadata": {
        "id": "57h66nFwJ6Kn"
      },
      "source": [
        "Expected output :\n",
        "\n",
        "poin a:\n",
        "\n",
        "![alt text](https://drive.google.com/uc?id=10IktjvsNtqzhq7H7vrP7wvQTVx5EWJjA)\n",
        "\n",
        "\n",
        "poin b:\n",
        "\n",
        "![alt text](https://drive.google.com/uc?id=1Dc2OdbTATwZRsPC24rSH3citYmfyrVHv)"
      ]
    },
    {
      "cell_type": "markdown",
      "metadata": {
        "id": "Kxwr0vGIO_bE"
      },
      "source": [
        "\n",
        "\n",
        "---\n",
        "\n",
        "\n",
        "\n",
        "---\n",
        "\n"
      ]
    },
    {
      "cell_type": "markdown",
      "metadata": {
        "id": "F55zUl5GBGr_"
      },
      "source": [
        "<h2>Soal 2: Filter DataFrame Dengan Boolean</h2>\n",
        "\n",
        "1. Tampilkan semua data siswa yang level pendidikan orang tuanya 'high school' dan 'bachelor degree'\n",
        "2. Tampilkan semua data siswa yang mempunyai nilai lebih dari 50 dengan test preparation course 'completed'\n",
        "3. Tampilkan semua data siswa yang mempunyai nilai lebih dari 70, berjenis kelamin perempuan dengan test preparation course 'completed'"
      ]
    },
    {
      "cell_type": "code",
      "metadata": {
        "id": "gpSzH5s6N3mb",
        "colab": {
          "base_uri": "https://localhost:8080/"
        },
        "outputId": "0d249cd7-e1cf-442b-9918-6f0945b5afaa"
      },
      "source": [
        "#code here\n",
        "high_bachelor=df[df['parental level of education'].isin(['high school', 'bachelor degree'])]\n",
        "print(high_bachelor)"
      ],
      "execution_count": null,
      "outputs": [
        {
          "output_type": "stream",
          "name": "stdout",
          "text": [
            "    gender parental level of education test preparation course  nilai\n",
            "3     male             bachelor degree               completed     83\n",
            "4   female             bachelor degree                    none     73\n",
            "7   female             bachelor degree                    none     71\n",
            "8   female             bachelor degree                    none     67\n",
            "15  female                 high school               completed     52\n",
            "16  female                 high school               completed     34\n",
            "17  female                 high school                    none     29\n",
            "19  female                 high school                    none     75\n",
            "23    male                 high school                    none     78\n",
            "24    male                 high school                    none     71\n",
            "27  female                 high school               completed     77\n",
            "28    male                 high school               completed     67\n",
            "29    male                 high school                    none     87\n",
            "31    male             bachelor degree                    none     60\n",
            "34  female             bachelor degree                    none     56\n",
            "37  female             bachelor degree               completed     77\n",
            "39  female             bachelor degree               completed     97\n",
            "41    male                 high school                    none     57\n",
            "43    male                 high school                    none     62\n",
            "51  female                 high school                    none     71\n",
            "52  female                 high school                    none     65\n",
            "60  female             bachelor degree                    none     85\n",
            "61    male             bachelor degree                    none     64\n",
            "63    male             bachelor degree                    none     68\n",
            "67    male                 high school                    none     79\n",
            "70    male                 high school                    none     52\n",
            "73  female                 high school                    none     82\n",
            "74    male                 high school               completed     70\n",
            "76    male                 high school                    none     68\n",
            "80    male                 high school                    none     69\n",
            "95    male                 high school                    none     30\n",
            "96  female                 high school                    none     62\n",
            "97    male                 high school                    none     71\n"
          ]
        }
      ]
    },
    {
      "cell_type": "code",
      "source": [
        "nilai_50_completed=df[(df['nilai']>50)&(df['test preparation course']=='completed')]\n",
        "print(nilai_50_completed)"
      ],
      "metadata": {
        "colab": {
          "base_uri": "https://localhost:8080/"
        },
        "id": "fOheV2xgh-E1",
        "outputId": "a936a323-3021-4736-d3bf-1f185eefc829"
      },
      "execution_count": null,
      "outputs": [
        {
          "output_type": "stream",
          "name": "stdout",
          "text": [
            "    gender parental level of education test preparation course  nilai\n",
            "1     male            some high school               completed     77\n",
            "2     male                some college               completed     83\n",
            "3     male             bachelor degree               completed     83\n",
            "5   female               master degree               completed     71\n",
            "6   female                some college               completed     78\n",
            "11  female            some high school               completed     63\n",
            "15  female                 high school               completed     52\n",
            "27  female                 high school               completed     77\n",
            "28    male                 high school               completed     67\n",
            "35    male                some college               completed     94\n",
            "37  female             bachelor degree               completed     77\n",
            "39  female             bachelor degree               completed     97\n",
            "42    male            associate degree               completed     65\n",
            "46  female                some college               completed     71\n",
            "49    male            some high school               completed     80\n",
            "53    male            associate degree               completed     68\n",
            "55  female            associate degree               completed     76\n",
            "58  female               master degree               completed     89\n",
            "62    male            some high school               completed     69\n",
            "64  female                some college               completed     74\n",
            "72  female            associate degree               completed     68\n",
            "74    male                 high school               completed     70\n",
            "75  female                some college               completed     91\n",
            "79    male                some college               completed     67\n",
            "86  female            some high school               completed     66\n",
            "93    male            associate degree               completed     76\n",
            "94  female                some college               completed     78\n",
            "99    male                some college               completed     85\n"
          ]
        }
      ]
    },
    {
      "cell_type": "code",
      "source": [
        "nilai_70_perempuan_completed=df[(df['nilai']>70)&(df['gender']=='female')&(df['test preparation course']=='completed')]\n",
        "print(nilai_70_perempuan_completed)"
      ],
      "metadata": {
        "colab": {
          "base_uri": "https://localhost:8080/"
        },
        "id": "EA4ltyeUh_wh",
        "outputId": "bdf44cf1-d370-4246-e7ae-35522b0c7e8a"
      },
      "execution_count": null,
      "outputs": [
        {
          "output_type": "stream",
          "name": "stdout",
          "text": [
            "    gender parental level of education test preparation course  nilai\n",
            "5   female               master degree               completed     71\n",
            "6   female                some college               completed     78\n",
            "27  female                 high school               completed     77\n",
            "37  female             bachelor degree               completed     77\n",
            "39  female             bachelor degree               completed     97\n",
            "46  female                some college               completed     71\n",
            "55  female            associate degree               completed     76\n",
            "58  female               master degree               completed     89\n",
            "64  female                some college               completed     74\n",
            "75  female                some college               completed     91\n",
            "94  female                some college               completed     78\n"
          ]
        }
      ]
    },
    {
      "cell_type": "markdown",
      "metadata": {
        "id": "LlAif9svN5G0"
      },
      "source": [
        "Expected output:\n",
        "\n",
        "poin a:(tampilan hanya sebagian)\n",
        "\n",
        "![alt text](https://drive.google.com/uc?id=1UiNs119fMKgPVa1SiIZxojC5iOkW2Ub1)\n",
        "\n",
        "\n",
        "poin b: (tampilan hanya sebagian)\n",
        "\n",
        "![alt text](https://drive.google.com/uc?id=13fc9IaUbwfzLiNgX6jEoLLuUjYli_YJq)\n",
        "\n",
        "poin c:\n",
        "\n",
        "![alt text](https://drive.google.com/uc?id=1SYby1GosYEyMQ26KdGOzvL48cKXpikp1)\n"
      ]
    },
    {
      "cell_type": "markdown",
      "metadata": {
        "id": "B3PIumZlPEjn"
      },
      "source": [
        "\n",
        "\n",
        "---\n",
        "\n",
        "\n",
        "\n",
        "---\n",
        "\n"
      ]
    },
    {
      "cell_type": "markdown",
      "metadata": {
        "id": "6Od6R3H1BGsE"
      },
      "source": [
        "<h2>Soal 3: Data Transformation</h2>\n",
        "\n",
        "lakukan data transformasi terhadap column 'nilai' dengan fungsi transformasi, berikut rumus dari normalisasi\n",
        "\n",
        "![alt text](https://drive.google.com/uc?id=1wed-EbRSTA0JP1ceDp6lcKBqH2yJ4aa3)"
      ]
    },
    {
      "cell_type": "code",
      "metadata": {
        "id": "RNnFVJ-AOoh1",
        "colab": {
          "base_uri": "https://localhost:8080/"
        },
        "outputId": "5527bc40-24e6-48ba-d416-d4870cb97b1d"
      },
      "source": [
        "#code here\n",
        "def normalisasi(x):\n",
        "  return (x - min_nilai) / (max_nilai - min_nilai)\n",
        "\n",
        "min_nilai = df['nilai'].min()\n",
        "max_nilai = df['nilai'].max()\n",
        "\n",
        "df['nilai_norm'] = df['nilai'].apply(normalisasi)\n",
        "\n",
        "print(df['nilai_norm'])"
      ],
      "execution_count": null,
      "outputs": [
        {
          "output_type": "stream",
          "name": "stdout",
          "text": [
            "0     0.205882\n",
            "1     0.705882\n",
            "2     0.794118\n",
            "3     0.794118\n",
            "4     0.647059\n",
            "        ...   \n",
            "95    0.014706\n",
            "96    0.485294\n",
            "97    0.617647\n",
            "98    0.544118\n",
            "99    0.823529\n",
            "Name: nilai_norm, Length: 100, dtype: float64\n"
          ]
        }
      ]
    },
    {
      "cell_type": "markdown",
      "metadata": {
        "id": "6FYWaSjKPGeT"
      },
      "source": [
        "\n",
        "\n",
        "---\n",
        "\n",
        "\n",
        "\n",
        "---\n",
        "\n"
      ]
    }
  ]
}