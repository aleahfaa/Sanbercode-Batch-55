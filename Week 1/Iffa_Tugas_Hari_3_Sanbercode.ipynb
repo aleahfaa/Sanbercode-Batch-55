{
  "nbformat": 4,
  "nbformat_minor": 0,
  "metadata": {
    "colab": {
      "provenance": []
    },
    "kernelspec": {
      "display_name": "Python 3",
      "language": "python",
      "name": "python3"
    },
    "language_info": {
      "codemirror_mode": {
        "name": "ipython",
        "version": 3
      },
      "file_extension": ".py",
      "mimetype": "text/x-python",
      "name": "python",
      "nbconvert_exporter": "python",
      "pygments_lexer": "ipython3",
      "version": "3.7.7"
    }
  },
  "cells": [
    {
      "cell_type": "markdown",
      "metadata": {
        "id": "I6jmLA-RYrt5"
      },
      "source": [
        "<h2>Soal 1: Helper Function</h2>\n",
        "\n",
        "Jawab Pertanyaan di bawah ini:\n",
        "\n",
        "Misalkan kamu ingin mengetahui tentang kegunaan fungsi 'len' di Python, maka fungsi apa yang bisa kamu gunakan untuk menolong kamu?"
      ]
    },
    {
      "cell_type": "code",
      "metadata": {
        "id": "VrvyQxGJYrt9"
      },
      "source": [
        "# lengkapi code ini\n",
        "help(len)"
      ],
      "execution_count": null,
      "outputs": []
    },
    {
      "cell_type": "markdown",
      "metadata": {
        "id": "KrcuFTuAYruT"
      },
      "source": [
        "<h2>Soal 2: Built-in Function</h2>\n",
        "\n",
        "Jawab Pertanyaan di bawah ini:\n",
        "    \n",
        "Apa itu built-in Function?\n",
        "\n",
        "Sebutkan 3 built-in Function di pyhon!\n",
        "\n",
        "Berikan contoh masing2 1 cara penggunaan built-in function yang kamu sebutkan sebelumnya"
      ]
    },
    {
      "cell_type": "markdown",
      "metadata": {
        "id": "xro-58_CYruW"
      },
      "source": [
        "Built-in Function adalah fungsi-fungsi yang telah ditentukan sebelumnya dan tersedia dalam sebuah bahasa pemrograman tanpa memerlukan pustaka atau modul tambahan. Mereka merupakan bagian dari perpustakaan standar bahasa tersebut dan dapat digunakan langsung tanpa pernyataan impor tambahan. <br>\n",
        "**3 Built-in Function di Python**\n",
        "1. `print()` : Digunakan untuk mencetak data ke konsol\n",
        "2. `input()` : Digunakan untuk mendapatkan input dari user\n",
        "3. `type()` : Digunakan untuk menentukan tipe dari sebuah variabel\n",
        "4. `len()` : Digunakan untuk mengembalikan panjang (jumlah item) dari suatu objek, umumnya digunakan dengan string, daftar, tuple, dan urutan lainnya\n",
        "5. `int()` : Digunakan untuk mengonversi sebuah nilai menjadi tipe data integer"
      ]
    },
    {
      "cell_type": "code",
      "metadata": {
        "id": "Xv7lHkgfYruY"
      },
      "source": [
        "# Contoh penggunaan built in function\n",
        "name = input(\"Name: \")\n",
        "\n",
        "print(f\"Hello, {name}!\")\n",
        "\n",
        "print(f\"{type(name)}\")\n",
        "\n",
        "name_length = len(name)\n",
        "print(f\"Name length: {name_length}\")\n",
        "\n",
        "try:\n",
        "  age = int(input(\"Age: \"))\n",
        "  print(f\"{name}, you are {age} years old.\")\n",
        "except ValueError:\n",
        "  print(\"Your age must be a number. Please try again.\")\n"
      ],
      "execution_count": null,
      "outputs": []
    },
    {
      "cell_type": "markdown",
      "source": [
        "1. `input()` : Meminta user untuk memasukkan nama mereka dan menyimpannya dalam variabel `name`\n",
        "2. `print()` : Menampilkan pesan salam menggunakan f-string untuk mempersonalisasi dengan nama user\n",
        "3. `type()` : Memeriksa tipe data dari variabel `name`, yang akan menjadi `<class 'str'>` karena menyimpan teks\n",
        "4. `len()` : Menghitung panjang (jumlah karakter) dari nama user dan menyimpannya dalam variabel `name_length`\n",
        "5. `int()` : Mencoba mengonversi input user untuk usia dari string menjadi integer menggunakan blok `try-except`. Jika input tidak berupa angka yang valid, pengecualian `ValueError` ditangkap, dan pesan kesalahan ditampilkan\n",
        "6. Pernyataan kondisional (`try-except`): Menangani kemungkinan kesalahan selama konversi menjadi integer. Jika konversi berhasil, itu akan mencetak pesan dengan nama dan usia user"
      ],
      "metadata": {
        "id": "q8O85a0maQDz"
      }
    },
    {
      "cell_type": "markdown",
      "metadata": {
        "id": "yhWXiPNDYrul"
      },
      "source": [
        "<h2>Soal 3: Method dan Function</h2>\n",
        "\n",
        "Jawab Pertanyaan di bawah ini:\n",
        "    \n",
        "- Apa perbedaan method dan function?"
      ]
    },
    {
      "cell_type": "markdown",
      "metadata": {
        "id": "rqpTJlgDYrun"
      },
      "source": [
        "Method (metode) adalah sebuah fungsi yang terkait dengan sebuah objek, sementara function (fungsi) adalah sebuah blok kode mandiri yang dapat dipanggil dengan namanya. Perbedaan kunci antara keduanya adalah konsep 'Kelas dan Objek'. Method didefinisikan di dalam sebuah kelas dan tergantung pada kelas tersebut, sementara function dapat dipanggil secara independen tanpa referensi kelas. <br>\n",
        "Key points yang membedakan antara method dan function:\n",
        "1. Method dipanggil pada sebuah objek, sementara function dipanggil dengan namanya.\n",
        "2. Method memiliki akses ke data dalam kelas, sementara function tidak.\n",
        "3. Method dapat memodifikasi status sebuah objek, sementara function tidak."
      ]
    },
    {
      "cell_type": "markdown",
      "metadata": {
        "id": "tUU1xgYBYrup"
      },
      "source": [
        "<h2>Soal 4: Menggunkan Method String</h2>\n",
        "\n",
        "Lengkapi kode untuk menghasilkan suatu output yang di harapkan"
      ]
    },
    {
      "cell_type": "code",
      "metadata": {
        "id": "037gauOGYrur",
        "colab": {
          "base_uri": "https://localhost:8080/"
        },
        "outputId": "99d12be4-b93c-4161-b384-089c1b6c00c5"
      },
      "source": [
        "kalimat = \"ayo belajar data science\"\n",
        "\n",
        "# gunakan method untuk mengubah nilai kalimat menjadi uppercase semua kemudian tampilkan hasilnya\n",
        "kalimat_uppercase = kalimat.upper()\n",
        "print(kalimat_uppercase)\n",
        "\n",
        "# gunakan method untuk menghitung berapa huruf a di dalam kalimat\n",
        "jumlah_a = kalimat.count(\"a\")\n",
        "print(jumlah_a)"
      ],
      "execution_count": null,
      "outputs": [
        {
          "output_type": "stream",
          "name": "stdout",
          "text": [
            "AYO BELAJAR DATA SCIENCE\n",
            "5\n"
          ]
        }
      ]
    },
    {
      "cell_type": "markdown",
      "metadata": {
        "id": "fPTd4R5VYru5"
      },
      "source": [
        "Expected Output:\n",
        "\n",
        "AYO BELAJAR DATA SCIENCE\n",
        "\n",
        "5"
      ]
    },
    {
      "cell_type": "markdown",
      "metadata": {
        "id": "IPjp5vwDYrvL"
      },
      "source": [
        "<h2>Soal 5: Membuat Simple Function</h2>\n",
        "\n",
        "Buatlah suatu fungsi yang menerima satu input argumen berbentuk list dan mempunyai elemen bertipe numeric semua, dimana fungsi tersebut berguna untuk menghitung rata2 dari kumpulan elemen list tersebut. namai fungsi tersebut 'mean_list'"
      ]
    },
    {
      "cell_type": "code",
      "metadata": {
        "id": "5KZg_AJUF9sK",
        "colab": {
          "base_uri": "https://localhost:8080/"
        },
        "outputId": "baeb91f5-5db6-43c5-a45c-ae761cae7b4b"
      },
      "source": [
        "obj_list = [11.25, 18.0, 20.0, 10.75, 9.50, 13.45, 23.0, 7.0, 8.45, 2.50]\n",
        "def mean_list(inp_list):\n",
        "  total=sum(inp_list)\n",
        "  count=len(inp_list)\n",
        "  avg=total/count\n",
        "  return avg\n",
        "\n",
        "print(mean_list(obj_list))"
      ],
      "execution_count": null,
      "outputs": [
        {
          "output_type": "stream",
          "name": "stdout",
          "text": [
            "12.39\n"
          ]
        }
      ]
    },
    {
      "cell_type": "markdown",
      "metadata": {
        "id": "MVAvoHHgYrva"
      },
      "source": [
        "Expected Output:\n",
        "\n",
        "12.39"
      ]
    },
    {
      "cell_type": "markdown",
      "metadata": {
        "id": "A8jjpNC8Yrvc"
      },
      "source": [
        "<h2>Soal 6: Membuat Function dengan Multiple arguments</h2>\n",
        "\n",
        "Buatlah suatu fungsi untuk melakukan penggabungan antara dua list"
      ]
    },
    {
      "cell_type": "code",
      "metadata": {
        "id": "gMWsoMw7G4s4",
        "colab": {
          "base_uri": "https://localhost:8080/"
        },
        "outputId": "225f3b67-7099-46bf-f2f2-eb331745e405"
      },
      "source": [
        "obj_list = [1, 2, 3, 4]\n",
        "obj_penambah = [5, 6, 7]\n",
        "\n",
        "def kali_list(inp_list1, inp_list2):\n",
        "  return inp_list1 + inp_list2\n",
        "\n",
        "print(kali_list(obj_list, obj_penambah))"
      ],
      "execution_count": null,
      "outputs": [
        {
          "output_type": "stream",
          "name": "stdout",
          "text": [
            "[1, 2, 3, 4, 5, 6, 7]\n"
          ]
        }
      ]
    },
    {
      "cell_type": "markdown",
      "metadata": {
        "id": "RYhU921kYrvp"
      },
      "source": [
        "Expected Output:\n",
        "\n",
        "\n",
        "[1, 2, 3, 4, 5, 6, 7]"
      ]
    },
    {
      "cell_type": "markdown",
      "metadata": {
        "id": "n4vXAQs4G9_s"
      },
      "source": [
        "# Soal 7. Mapping Fungsi lambda\n",
        "\n",
        "Hitunglah jumlah bilangan genap dari sebuah objek list berikut menggunakan lambda function"
      ]
    },
    {
      "cell_type": "code",
      "metadata": {
        "id": "fKZSTDb9NdIZ",
        "colab": {
          "base_uri": "https://localhost:8080/"
        },
        "outputId": "265eced3-7538-43ee-e72a-cb3d2fa4f35f"
      },
      "source": [
        "obj_list = [i for i in range(1000)]\n",
        "hasil=len(list(filter(lambda x:x%2==0, obj_list)))\n",
        "\n",
        "print(hasil)"
      ],
      "execution_count": null,
      "outputs": [
        {
          "output_type": "stream",
          "name": "stdout",
          "text": [
            "500\n"
          ]
        }
      ]
    },
    {
      "cell_type": "markdown",
      "metadata": {
        "id": "vEj-AttRNWuZ"
      },
      "source": [
        "Expected output:\n",
        "\n",
        "500"
      ]
    }
  ]
}