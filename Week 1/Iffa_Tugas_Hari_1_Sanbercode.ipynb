{
  "nbformat": 4,
  "nbformat_minor": 0,
  "metadata": {
    "kernelspec": {
      "display_name": "Python 3",
      "language": "python",
      "name": "python3"
    },
    "language_info": {
      "codemirror_mode": {
        "name": "ipython",
        "version": 3
      },
      "file_extension": ".py",
      "mimetype": "text/x-python",
      "name": "python",
      "nbconvert_exporter": "python",
      "pygments_lexer": "ipython3",
      "version": "3.7.7"
    },
    "colab": {
      "provenance": []
    }
  },
  "cells": [
    {
      "cell_type": "markdown",
      "source": [
        "Iffa Amalia Sabrina\n",
        "<br>\n",
        "Data Science (Sanbercode) - Tugas hari 1"
      ],
      "metadata": {
        "id": "rB61bQDGRK_m"
      }
    },
    {
      "cell_type": "markdown",
      "metadata": {
        "id": "37V7ZOpEwt-6"
      },
      "source": [
        "<h2>Soal 1: Hello World to Python</h2>\n",
        "    \n",
        "Print Say Hello World to Python"
      ]
    },
    {
      "cell_type": "code",
      "metadata": {
        "id": "YCFjxzUwrIN-",
        "colab": {
          "base_uri": "https://localhost:8080/"
        },
        "outputId": "75ff29fd-c734-498f-acd5-23b220529f13"
      },
      "source": [
        "#print Hello World Python\n",
        "print(\"Hello World Python\")"
      ],
      "execution_count": null,
      "outputs": [
        {
          "output_type": "stream",
          "name": "stdout",
          "text": [
            "Hello World Python\n"
          ]
        }
      ]
    },
    {
      "cell_type": "markdown",
      "metadata": {
        "id": "fftihhaUwt_B"
      },
      "source": [
        "Expected Output :\n",
        "\n",
        "Hello World Python"
      ]
    },
    {
      "cell_type": "markdown",
      "metadata": {
        "id": "1aEipc1Swt_C"
      },
      "source": [
        "<h2>Soal 2: Aritmatika di Python </h2>\n",
        "    \n",
        "- Buat statement pertambahan antara 2 number di Python\n",
        "- Buat statement perkurangan antara 2 number di Python\n",
        "- Buat statement perkalian antara 2 number di Python\n",
        "- Buat statement pembagian antara 2 number di Python"
      ]
    },
    {
      "cell_type": "markdown",
      "source": [
        "- add = a + b\n",
        "- substract = a - b\n",
        "- multiple a * b\n",
        "- divide = a / b"
      ],
      "metadata": {
        "id": "d2pNMpiRiwwH"
      }
    },
    {
      "cell_type": "code",
      "source": [
        "#addition statement\n",
        "add=10+5\n",
        "#subraction statement\n",
        "substract=10-5\n",
        "#multiplication statement\n",
        "multiple=10*5\n",
        "#division statement\n",
        "divide=10/5\n",
        "print(add, subsract, multiple, divide)"
      ],
      "metadata": {
        "colab": {
          "base_uri": "https://localhost:8080/"
        },
        "id": "Q-5p4iRVSZXC",
        "outputId": "ab30b027-7d8b-44c7-c96f-3d3c8ae5c1e9"
      },
      "execution_count": null,
      "outputs": [
        {
          "output_type": "stream",
          "name": "stdout",
          "text": [
            "15 5 50 2.0\n"
          ]
        }
      ]
    },
    {
      "cell_type": "code",
      "metadata": {
        "id": "hOlCjZzrwt_D",
        "colab": {
          "base_uri": "https://localhost:8080/"
        },
        "outputId": "b34575a6-91fa-4f2f-c368-4ae2e0d93b63"
      },
      "source": [
        "a=10\n",
        "b=5\n",
        "#addition statement\n",
        "plus=a+b\n",
        "#substraction statement\n",
        "minus=a-b\n",
        "#multiplication statement\n",
        "multiple=a*b\n",
        "#division statement\n",
        "divide=a/b\n",
        "print(add, substract, multiple, divide)"
      ],
      "execution_count": null,
      "outputs": [
        {
          "output_type": "stream",
          "name": "stdout",
          "text": [
            "15 5 50 2.0\n"
          ]
        }
      ]
    },
    {
      "cell_type": "markdown",
      "metadata": {
        "id": "DgUFNMtZwt_G"
      },
      "source": [
        "<h2>Quiz 3: Assign Variable dan Tipe Data Integer, Float </h2>\n",
        "\n",
        "- Buat suatu variabel a dan b, dimana a dan b adalah nilai bertipe data numeric\n",
        "- Berikan suatu nilai bertipe data integer, hasil pembagian dari a dengan b\n",
        "- Berikan suatu nilai bertipe data float, hasil pembagian dari a dengan b"
      ]
    },
    {
      "cell_type": "markdown",
      "source": [
        "**<h4>Numeric Data Types<h4>**\n",
        "<img src=\"https://itsengg.edu.in/python%20pic%202.PNG\">"
      ],
      "metadata": {
        "id": "73t60kjblMPO"
      }
    },
    {
      "cell_type": "code",
      "metadata": {
        "id": "Qf8wzMg5wt_H",
        "colab": {
          "base_uri": "https://localhost:8080/"
        },
        "outputId": "c82da3aa-020b-45b2-d094-082af19025fd"
      },
      "source": [
        "a=7.5\n",
        "b=2.5\n",
        "div_int=a/b\n",
        "print(div_int)"
      ],
      "execution_count": null,
      "outputs": [
        {
          "output_type": "stream",
          "name": "stdout",
          "text": [
            "3.0\n"
          ]
        }
      ]
    },
    {
      "cell_type": "code",
      "source": [
        "a=8.5\n",
        "b=2.5\n",
        "div_float=a/b\n",
        "print(div_float)"
      ],
      "metadata": {
        "colab": {
          "base_uri": "https://localhost:8080/"
        },
        "id": "WquN0HPMlGBG",
        "outputId": "25b7d7a3-377d-4183-ed4a-7421f8fa1c87"
      },
      "execution_count": null,
      "outputs": [
        {
          "output_type": "stream",
          "name": "stdout",
          "text": [
            "3.4\n"
          ]
        }
      ]
    },
    {
      "cell_type": "code",
      "source": [
        "a=15\n",
        "b=4.5\n",
        "\n",
        "#integer division of a by b\n",
        "div_int=a//b\n",
        "print(div_int)\n",
        "\n",
        "#float division of a by b\n",
        "div_float=a/b\n",
        "print(div_float)\n"
      ],
      "metadata": {
        "colab": {
          "base_uri": "https://localhost:8080/"
        },
        "id": "eILnpeENl1A_",
        "outputId": "baa079c5-68b5-4f48-f5df-a78ced016e0f"
      },
      "execution_count": null,
      "outputs": [
        {
          "output_type": "stream",
          "name": "stdout",
          "text": [
            "3.0\n",
            "3.3333333333333335\n"
          ]
        }
      ]
    },
    {
      "cell_type": "markdown",
      "metadata": {
        "id": "XmjLgW7Zwt_L"
      },
      "source": [
        "<h2>Soal 4: String Operation </h2>\n",
        "\n",
        "- masukan nama depan kamu kedalam suatu variable firstname\n",
        "- masukan nama belakang kamu kedalam suatu variable lastname\n",
        "- tampilkan suatu kalimat 'Hello sanbercode, saya firstname lastname! saya siap belajar python data science dasar.'"
      ]
    },
    {
      "cell_type": "code",
      "metadata": {
        "id": "lSRwZ7xXwt_M",
        "colab": {
          "base_uri": "https://localhost:8080/"
        },
        "outputId": "01b8dd88-c03c-42de-e5b3-1c5611fb6460"
      },
      "source": [
        "firstname=\"Iffa Amalia\"\n",
        "lastname=\"Sabrina\"\n",
        "print(f\"Hello sanbercode, saya {firstname} {lastname}! saya siap belajar python data science dasar\")"
      ],
      "execution_count": null,
      "outputs": [
        {
          "output_type": "stream",
          "name": "stdout",
          "text": [
            "Hello sanbercode, saya Iffa Amalia Sabrina! saya siap belajar python data science dasar\n"
          ]
        }
      ]
    },
    {
      "cell_type": "markdown",
      "metadata": {
        "id": "0ROQJqBXwt_Q"
      },
      "source": [
        "Expected Output :\n",
        "\n",
        "Hello sanbercode, saya Afrida Hafizhatul Ulum! saya siap belajar python data science dasar."
      ]
    },
    {
      "cell_type": "markdown",
      "metadata": {
        "id": "9DaWI8xdwt_Q"
      },
      "source": [
        "<h2>Soal 5: Tipe Data</h2>\n",
        "\n",
        "Lengkapi code di bawah ini untuk menghasilkan output yang sesuai"
      ]
    },
    {
      "cell_type": "code",
      "metadata": {
        "id": "wcDbgbjTwt_R",
        "colab": {
          "base_uri": "https://localhost:8080/"
        },
        "outputId": "ff0cba35-b1f4-43d2-a008-12d98cdbedd7"
      },
      "source": [
        "usia=20\n",
        "kata='usiaku: '\n",
        "print(kata+str(usia)+' tahun')"
      ],
      "execution_count": null,
      "outputs": [
        {
          "output_type": "stream",
          "name": "stdout",
          "text": [
            "usiaku: 20 tahun\n"
          ]
        }
      ]
    },
    {
      "cell_type": "markdown",
      "metadata": {
        "id": "wdVRjDoLwt_V"
      },
      "source": [
        "Expected Output : (sesuai usia masing-masing)\n",
        "\n",
        "usiaku: 28 tahun"
      ]
    }
  ]
}